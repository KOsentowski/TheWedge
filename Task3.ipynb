{
 "cells": [
  {
   "cell_type": "markdown",
   "metadata": {},
   "source": [
    "# Wedge Task 3- Building Summary Tables"
   ]
  },
  {
   "cell_type": "markdown",
   "metadata": {},
   "source": [
    "This task takes our tables in GBQ and answers the following questions: \n",
    "\n",
    "•\tHow have our sales-by-day changed over the last few months?\n",
    "\n",
    "•\tWhat is our most popular item in each department?\n",
    "\n",
    "•\tWhich owners spend the most per month in each department?\n",
    "\n",
    "This is done by pulling the table infomration through querys into a relational database: Wedge.db in this case. "
   ]
  },
  {
   "cell_type": "code",
   "execution_count": 1,
   "metadata": {},
   "outputs": [],
   "source": [
    "#imports, imports, imports\n",
    "from google.cloud import bigquery\n",
    "from google.oauth2 import service_account\n",
    "import random\n",
    "import sqlite3\n",
    "import os"
   ]
  },
  {
   "cell_type": "code",
   "execution_count": 2,
   "metadata": {},
   "outputs": [],
   "source": [
    "# Linking to my permissions and GBQ project\n",
    "service_path = \"/Users/kayleeosentowski/Desktop/MSBA/ADA_21/Wedge/\"\n",
    "service_file = 'osentowski-project-3a5d8e60c1a3.json' # authentication information  \n",
    "gbq_proj_id = 'osentowski-project' # project. \n",
    "\n",
    "# using my machine math and json to create my private key\n",
    "private_key =service_path + service_file"
   ]
  },
  {
   "cell_type": "code",
   "execution_count": 3,
   "metadata": {},
   "outputs": [],
   "source": [
    "# credentials so that Python has permission to access our project.\n",
    "credentials = service_account.Credentials.from_service_account_file(service_path + service_file)"
   ]
  },
  {
   "cell_type": "code",
   "execution_count": 4,
   "metadata": {},
   "outputs": [],
   "source": [
    "# establish connection\n",
    "client = bigquery.Client(credentials = credentials, project=gbq_proj_id)"
   ]
  },
  {
   "cell_type": "markdown",
   "metadata": {},
   "source": [
    "## Sales by date by hour:\n",
    "\n",
    "By calendar date (YYYY-MM-DD) and hour of the day, determine the total spend in the store, the number of transactions, and a count of the number of items . "
   ]
  },
  {
   "cell_type": "code",
   "execution_count": 5,
   "metadata": {},
   "outputs": [],
   "source": [
    "# this code is building a query called \"salesdatehour\" that is pulling from all the transArchive tables\n",
    "# columns pulled are datetime (extracted hour), total as sales, pulling transaction numbers be looking for unique date, register, employee, and transaction\n",
    "#and items by not counting void or returns\n",
    "\n",
    "salesdatehour = '''SELECT (EXTRACT(date FROM datetime)) AS Date,\n",
    "    (EXTRACT(HOUR FROM datetime)) AS Hour,\n",
    "    SUM(total) as Sales,\n",
    "    COUNT(DISTINCT(Date(datetime) || register_no || emp_no || trans_no)) AS Transactions,\n",
    "    SUM(CASE WHEN(Trans_Status = 'V' OR Trans_Status = 'R') THEN -1 ELSE 1 END) as Items\n",
    "    FROM `osentowski-project.Transaction.transArchive*`\n",
    "\n",
    "    WHERE Card_No != 3\n",
    "    AND Department != 0\n",
    "    AND Department != 15\n",
    "    AND Trans_Status != 'M'\n",
    "    AND Trans_Status != 'C'\n",
    "    AND Trans_Status != 'J'\n",
    "    AND (Trans_Status = ''\n",
    "    OR Trans_Status = ' '\n",
    "    OR Trans_Status = 'V'\n",
    "    OR Trans_Status = 'R')\n",
    "    GROUP BY Date, Hour\n",
    "    ORDER BY Date, Hour'''\n",
    "datehour = client.query(salesdatehour,location=\"US\")"
   ]
  },
  {
   "cell_type": "code",
   "execution_count": 6,
   "metadata": {},
   "outputs": [],
   "source": [
    "headers = [\"Date\",\"Hour\",\"Sales\",\"Transactions\",\"Items\"]"
   ]
  },
  {
   "cell_type": "code",
   "execution_count": 7,
   "metadata": {},
   "outputs": [],
   "source": [
    "# writing out to a txt file with the headers above and stringing together the query results\n",
    "with open(\"salesdatehour.txt\", 'w') as outfile:\n",
    "    outfile.write(\",\".join(headers) + \"\\n\")\n",
    "    for row in datehour:\n",
    "         outfile.write(\",\".join([str(item) for item in row])+ '\\n')"
   ]
  },
  {
   "cell_type": "code",
   "execution_count": 8,
   "metadata": {},
   "outputs": [],
   "source": [
    "#connecting to SQLite database \"Wedge.db\"\n",
    "db = sqlite3.connect(\"Wedge.db\")\n",
    "cur = db.cursor()\n",
    "\n",
    "#input results\n",
    "input_file = \"salesdatehour.txt\"\n",
    "\n",
    "#building schema\n",
    "cur.execute('''DROP TABLE IF EXISTS Daily_Hourly_Sales''') #remove table if it exists already\n",
    "#creating table\n",
    "cur.execute('''CREATE TABLE Daily_Hourly_Sales (\n",
    "    Date TIMESTAMP,\n",
    "    Hour TIMESTAMP,\n",
    "    Sales REAL,\n",
    "    Transactions INTEGER,\n",
    "    Items INTEGER)''')\n",
    "\n",
    "# input the data into the table in the database\n",
    "with open(input_file,'r', encoding=\"Latin-1\") as ifile :\n",
    "    for idx, line in enumerate(ifile) :\n",
    "        line = line.strip().split(\",\")\n",
    "        cur.execute('''\n",
    "            INSERT INTO Daily_Hourly_Sales(Date,Hour,Sales,Transactions,Items)\n",
    "            VALUES (?,?,?,?,?)''', line)\n",
    "\n",
    "db.commit()"
   ]
  },
  {
   "cell_type": "markdown",
   "metadata": {},
   "source": [
    "## Sales by owner by year by month:\n",
    "A file that has the following columns: card_no, year, month, sales, transactions, and items. "
   ]
  },
  {
   "cell_type": "code",
   "execution_count": 9,
   "metadata": {},
   "outputs": [],
   "source": [
    "#building query from all of the GBQ transArchive files\n",
    "#This is looking at card_no to count as owner\n",
    "#I'm including card # 3 to see how many sales go to non-owners\n",
    "\n",
    "query_owneryearmonth = '''SELECT card_no AS Owner,\n",
    "    (EXTRACT(Year FROM datetime)) AS Year,\n",
    "    (EXTRACT(month FROM datetime)) AS Month,\n",
    "    SUM(total) as Sales,\n",
    "    COUNT(DISTINCT(Date(datetime) || register_no || emp_no || trans_no)) AS Transactions,\n",
    "    SUM(CASE WHEN(Trans_Status = 'V' OR Trans_Status = 'R') THEN -1 ELSE 1 END) as Items\n",
    "    FROM `osentowski-project.Transaction.transArchive*`\n",
    "\n",
    "    WHERE Department != 0\n",
    "    AND Department != 15\n",
    "    AND Trans_Status != 'M'\n",
    "    AND Trans_Status != 'C'\n",
    "    AND Trans_Status != 'J'\n",
    "    AND (Trans_Status = ''\n",
    "    OR Trans_Status = ' '\n",
    "    OR Trans_Status = 'V'\n",
    "    OR Trans_Status = 'R')\n",
    "    GROUP BY Card_No, Year, Month\n",
    "    ORDER BY Card_No, Year, Month'''\n",
    "\n",
    "owneryearmonth = client.query(query_owneryearmonth,location=\"US\")"
   ]
  },
  {
   "cell_type": "code",
   "execution_count": 10,
   "metadata": {},
   "outputs": [],
   "source": [
    "headers = [\"Owner\",\"Year\",\"Month\",\"Sales\",\"Transactions\",\"Items\"]"
   ]
  },
  {
   "cell_type": "code",
   "execution_count": 11,
   "metadata": {},
   "outputs": [],
   "source": [
    "#writing out to the file on my machine by stringing together the items in rows from the query results\n",
    "with open(\"owneryearmonth.txt\", 'w') as outfile:\n",
    "    outfile.write(\",\".join(headers) + \"\\n\")\n",
    "    for row in owneryearmonth:\n",
    "         outfile.write(\",\".join([str(item) for item in row])+ '\\n')"
   ]
  },
  {
   "cell_type": "code",
   "execution_count": 14,
   "metadata": {},
   "outputs": [],
   "source": [
    "#connecting to SQLite db\n",
    "db = sqlite3.connect('Wedge.db')\n",
    "cur = db.cursor()\n",
    "\n",
    "# input the results of the first query\n",
    "input_file2 = \"owneryearmonth.txt\"\n",
    "\n",
    "cur.execute('''DROP TABLE IF EXISTS Monthly_Owner_Sales''') # remove the table if it already exists\n",
    "# create the table in the db\n",
    "cur.execute('''CREATE TABLE Monthly_Owner_Sales (\n",
    "    Owner INTEGER,\n",
    "    Year TIMESTAMP,\n",
    "    Month TIMESTAMP,\n",
    "    Sales REAL,\n",
    "    Transactions INTEGER,\n",
    "    Items INTEGER)''')\n",
    "# input the data into the table in the database\n",
    "with open(input_file2, 'r', encoding = 'Latin-1') as infile:\n",
    "    for idx,line in enumerate(infile.readlines()):\n",
    "        line = line.strip().split(',')\n",
    "        cur.execute('''\n",
    "        INSERT INTO Monthly_Owner_Sales (Owner, Year, Month, Sales, Transactions, Items)\n",
    "        VALUES (?,?,?,?,?,?)''', line) #make sure that the ? match up with the column labels for value insertion\n",
    "db.commit()"
   ]
  },
  {
   "cell_type": "markdown",
   "metadata": {},
   "source": [
    "## Sales by product description by year by month:\n",
    "A file that has the following columns: upc, description, department number, department name, year, month, sales, transactions, and items."
   ]
  },
  {
   "cell_type": "code",
   "execution_count": 15,
   "metadata": {},
   "outputs": [],
   "source": [
    "# building query of all transArchive tables looking for the above columns. \n",
    "# Created a table in GBQ called DeptLookup using the apendix results for the Wedge Assignment\n",
    "#Using a Left Outer Join to combine these descriptions on the Department number\n",
    "\n",
    "query_proddescyearmonth = '''SELECT tr.Department, dl.dept_name,\n",
    "    (EXTRACT(year FROM datetime)) AS Year,\n",
    "    (EXTRACT(month FROM datetime)) AS Month,\n",
    "    UPC,\n",
    "    Description,\n",
    "    tr.Department AS Dept_Num,\n",
    "    SUM(total) as Sales,\n",
    "    COUNT(DISTINCT(Date(datetime) || register_no || emp_no || trans_no)) AS Transactions,\n",
    "    SUM(CASE WHEN(Trans_Status = 'V' OR Trans_Status = 'R') THEN -1 ELSE 1 END) as Items\n",
    "    FROM `osentowski-project.Transaction.transArchive*` AS tr\n",
    "    \n",
    "    LEFT OUTER JOIN `osentowski-project.Transaction.DeptLookup` AS dl ON tr.Department = dl.Department\n",
    "    \n",
    "    WHERE Card_No != 3\n",
    "    AND tr.Department != 0\n",
    "    AND tr.Department != 15\n",
    "    AND Trans_Status != 'M'\n",
    "    AND Trans_Status != 'C'\n",
    "    AND Trans_Status != 'J'\n",
    "    AND (Trans_Status = ''\n",
    "    OR Trans_Status = ' '\n",
    "    OR Trans_Status = 'V'\n",
    "    OR Trans_Status = 'R')\n",
    "    GROUP BY Year, Month, UPC, Description, Dept_Num, dl.dept_name\n",
    "    ORDER BY Description, Year, Month DESC'''    \n",
    "    \n",
    "proddescyearmonth = client.query(query_proddescyearmonth,location=\"US\")"
   ]
  },
  {
   "cell_type": "code",
   "execution_count": 16,
   "metadata": {},
   "outputs": [],
   "source": [
    "headers = [\"Department\",\"Dept_Name\",\"Year\",\"Month\",\"UPC\",\"Description\",\"Dept_no\",\"Sales\",\"Transactions\",\"Items\"]"
   ]
  },
  {
   "cell_type": "code",
   "execution_count": 17,
   "metadata": {},
   "outputs": [],
   "source": [
    "with open(\"salesproddescyearmonth.txt\", 'w') as outfile:\n",
    "    outfile.write(\",\".join(headers) + \"\\n\")\n",
    "    for row in proddescyearmonth:\n",
    "         outfile.write(\",\".join([str(item) for item in row])+ '\\n')"
   ]
  },
  {
   "cell_type": "code",
   "execution_count": 19,
   "metadata": {},
   "outputs": [],
   "source": [
    "#connecting to SQLite db\n",
    "db = sqlite3.connect('Wedge.db')\n",
    "cur = db.cursor()\n",
    "\n",
    "#input results from query\n",
    "input_file3 = \"salesproddescyearmonth.txt\"\n",
    "\n",
    "cur.execute('''DROP TABLE IF EXISTS Prod_Desc_Year_Month''') #makes sure it isn't already done\n",
    "\n",
    "#creating table in db\n",
    "cur.execute('''CREATE TABLE Prod_Desc_Year_Month (\n",
    "    Department FLOAT,\n",
    "    Dept_Name TEXT,\n",
    "    Year TIMESTAMP,\n",
    "    Month TIMESTAMP,\n",
    "    UPC STRING,\n",
    "    Description STRING,\n",
    "    Dept_no INTEGER,\n",
    "    Sales REAL,\n",
    "    Transactions INTEGER,\n",
    "    Items INTEGER)''')\n",
    "\n",
    "#input data into db \n",
    "with open(input_file3, 'r', encoding = 'utf-8') as infile:\n",
    "    for idx,line in enumerate(infile.readlines()):\n",
    "        line = line.strip().split(',')\n",
    "        cur.execute('''\n",
    "        INSERT INTO Prod_Desc_Year_Month (Department, Dept_Name, Year, Month, UPC, Description, Dept_no, Sales, Transactions, Items)\n",
    "        VALUES (?,?,?,?,?,?,?,?,?,?)''', line)    \n",
    "db.commit()"
   ]
  },
  {
   "cell_type": "code",
   "execution_count": 39,
   "metadata": {},
   "outputs": [],
   "source": [
    "db.close()"
   ]
  },
  {
   "cell_type": "markdown",
   "metadata": {},
   "source": [
    "## Nonsense.\n",
    "\n",
    "I like to include sometimes the random chunks of code I worked on before coming to this conlusion. Obviously most of this didn't work but I like to look back on it to see what I could use for other stuff.  "
   ]
  },
  {
   "cell_type": "code",
   "execution_count": 7,
   "metadata": {},
   "outputs": [],
   "source": [
    "# for idx,row in enumerate(result) :\n",
    "#     print(\"On {0}, card_no = {1} spent {2:,.2f}.\".format(row[0],row[1],row[2]))\n",
    "#     if idx > 20 :\n",
    "#         break"
   ]
  },
  {
   "cell_type": "code",
   "execution_count": 23,
   "metadata": {},
   "outputs": [
    {
     "name": "stdout",
     "output_type": "stream",
     "text": [
      "['YearMonthDay,Hour,Spend,NumberofItems,NumberofTrans']\n",
      "['2012-07-16,6,209.63,53,3']\n",
      "['2012-09-17,6,3.5527136788005009e-15,67,4']\n",
      "['2016-06-05,6,-2.1400000000000148,45,3']\n",
      "['2016-06-17,6,0.0,8,2']\n"
     ]
    }
   ],
   "source": [
    "# import sqlite3\n",
    "# from wedge_helper import *\n",
    "\n",
    "# input_file = \"SalesDateHour.csv\"\n",
    "\n",
    "# # Let's just open the file and read the first few lines to the screen.\n",
    "# with open(input_file,'r',encoding=\"Latin-1\") as ifile :\n",
    "#     for idx, line in enumerate(ifile.readlines()) :\n",
    "#         print(line.strip().split(\"\\t\"))\n",
    "#         if idx > 3 :\n",
    "#             break"
   ]
  },
  {
   "cell_type": "code",
   "execution_count": 24,
   "metadata": {},
   "outputs": [
    {
     "ename": "OperationalError",
     "evalue": "database is locked",
     "output_type": "error",
     "traceback": [
      "\u001b[0;31m---------------------------------------------------------------------------\u001b[0m",
      "\u001b[0;31mOperationalError\u001b[0m                          Traceback (most recent call last)",
      "\u001b[0;32m<ipython-input-24-0c46c9952a19>\u001b[0m in \u001b[0;36m<module>\u001b[0;34m\u001b[0m\n\u001b[1;32m      2\u001b[0m \u001b[0mcur\u001b[0m \u001b[0;34m=\u001b[0m \u001b[0mdb\u001b[0m\u001b[0;34m.\u001b[0m\u001b[0mcursor\u001b[0m\u001b[0;34m(\u001b[0m\u001b[0;34m)\u001b[0m\u001b[0;34m\u001b[0m\u001b[0;34m\u001b[0m\u001b[0m\n\u001b[1;32m      3\u001b[0m \u001b[0;34m\u001b[0m\u001b[0m\n\u001b[0;32m----> 4\u001b[0;31m \u001b[0minit_db\u001b[0m\u001b[0;34m(\u001b[0m\u001b[0mcur\u001b[0m\u001b[0;34m)\u001b[0m \u001b[0;31m# take a look at the .py file to see what happened here.\u001b[0m\u001b[0;34m\u001b[0m\u001b[0;34m\u001b[0m\u001b[0m\n\u001b[0m",
      "\u001b[0;32m~/Desktop/MSBA/ADA_21/Wedge/wedge_helper.py\u001b[0m in \u001b[0;36minit_db\u001b[0;34m(cur)\u001b[0m\n\u001b[1;32m     13\u001b[0m \u001b[0;34m\u001b[0m\u001b[0m\n\u001b[1;32m     14\u001b[0m \u001b[0;32mdef\u001b[0m \u001b[0minit_db\u001b[0m\u001b[0;34m(\u001b[0m\u001b[0mcur\u001b[0m\u001b[0;34m)\u001b[0m \u001b[0;34m:\u001b[0m\u001b[0;34m\u001b[0m\u001b[0;34m\u001b[0m\u001b[0m\n\u001b[0;32m---> 15\u001b[0;31m     \u001b[0mcur\u001b[0m\u001b[0;34m.\u001b[0m\u001b[0mexecute\u001b[0m\u001b[0;34m(\u001b[0m\u001b[0;34m'''DROP TABLE IF EXISTS transactions'''\u001b[0m\u001b[0;34m)\u001b[0m\u001b[0;34m\u001b[0m\u001b[0;34m\u001b[0m\u001b[0m\n\u001b[0m\u001b[1;32m     16\u001b[0m     cur.execute('''CREATE TABLE transactions (\n\u001b[1;32m     17\u001b[0m         \u001b[0mdatetime\u001b[0m \u001b[0mTIMESTAMP\u001b[0m\u001b[0;34m,\u001b[0m\u001b[0;34m\u001b[0m\u001b[0;34m\u001b[0m\u001b[0m\n",
      "\u001b[0;31mOperationalError\u001b[0m: database is locked"
     ]
    }
   ],
   "source": [
    "# db = sqlite3.connect(\"WedgeSmall.db\") #':memory:') # Make this a directory + file if you want to store the results.\n",
    "# cur = db.cursor()\n",
    "\n",
    "# init_db(cur) # take a look at the .py file to see what happened here."
   ]
  },
  {
   "cell_type": "code",
   "execution_count": 25,
   "metadata": {},
   "outputs": [
    {
     "ename": "ProgrammingError",
     "evalue": "Incorrect number of bindings supplied. The current statement uses 50, and there are 5 supplied.",
     "output_type": "error",
     "traceback": [
      "\u001b[0;31m---------------------------------------------------------------------------\u001b[0m",
      "\u001b[0;31mProgrammingError\u001b[0m                          Traceback (most recent call last)",
      "\u001b[0;32m<ipython-input-25-b126727430f4>\u001b[0m in \u001b[0;36m<module>\u001b[0;34m\u001b[0m\n\u001b[1;32m      1\u001b[0m \u001b[0;32mwith\u001b[0m \u001b[0mopen\u001b[0m\u001b[0;34m(\u001b[0m\u001b[0minput_file\u001b[0m\u001b[0;34m,\u001b[0m\u001b[0;34m'r'\u001b[0m\u001b[0;34m)\u001b[0m \u001b[0;32mas\u001b[0m \u001b[0mifile\u001b[0m \u001b[0;34m:\u001b[0m\u001b[0;34m\u001b[0m\u001b[0;34m\u001b[0m\u001b[0m\n\u001b[0;32m----> 2\u001b[0;31m     \u001b[0mpopulate_db\u001b[0m\u001b[0;34m(\u001b[0m\u001b[0mdb\u001b[0m\u001b[0;34m,\u001b[0m\u001b[0mifile\u001b[0m\u001b[0;34m,\u001b[0m\u001b[0mdelimiter\u001b[0m\u001b[0;34m=\u001b[0m\u001b[0;34m\",\"\u001b[0m\u001b[0;34m,\u001b[0m\u001b[0mlimit\u001b[0m\u001b[0;34m=\u001b[0m\u001b[0;32mNone\u001b[0m\u001b[0;34m)\u001b[0m\u001b[0;34m\u001b[0m\u001b[0;34m\u001b[0m\u001b[0m\n\u001b[0m",
      "\u001b[0;32m~/Desktop/MSBA/ADA_21/Wedge/wedge_helper.py\u001b[0m in \u001b[0;36mpopulate_db\u001b[0;34m(db, file_handle, delimiter, limit)\u001b[0m\n\u001b[1;32m     76\u001b[0m     \u001b[0;32mfor\u001b[0m \u001b[0midx\u001b[0m\u001b[0;34m,\u001b[0m \u001b[0mrow\u001b[0m \u001b[0;32min\u001b[0m \u001b[0menumerate\u001b[0m\u001b[0;34m(\u001b[0m\u001b[0mfile_handle\u001b[0m\u001b[0;34m.\u001b[0m\u001b[0mreadlines\u001b[0m\u001b[0;34m(\u001b[0m\u001b[0;34m)\u001b[0m\u001b[0;34m)\u001b[0m \u001b[0;34m:\u001b[0m\u001b[0;34m\u001b[0m\u001b[0;34m\u001b[0m\u001b[0m\n\u001b[1;32m     77\u001b[0m         \u001b[0mrow\u001b[0m \u001b[0;34m=\u001b[0m \u001b[0mrow\u001b[0m\u001b[0;34m.\u001b[0m\u001b[0mstrip\u001b[0m\u001b[0;34m(\u001b[0m\u001b[0;34m)\u001b[0m\u001b[0;34m.\u001b[0m\u001b[0mreplace\u001b[0m\u001b[0;34m(\u001b[0m\u001b[0;34m'\\\"'\u001b[0m\u001b[0;34m,\u001b[0m\u001b[0;34m''\u001b[0m\u001b[0;34m)\u001b[0m\u001b[0;34m.\u001b[0m\u001b[0msplit\u001b[0m\u001b[0;34m(\u001b[0m\u001b[0mdelimiter\u001b[0m\u001b[0;34m)\u001b[0m\u001b[0;34m\u001b[0m\u001b[0;34m\u001b[0m\u001b[0m\n\u001b[0;32m---> 78\u001b[0;31m         cur.execute('''\n\u001b[0m\u001b[1;32m     79\u001b[0m             INSERT INTO transactions (datetime,register_no,emp_no,\n\u001b[1;32m     80\u001b[0m               \u001b[0mtrans_no\u001b[0m\u001b[0;34m,\u001b[0m\u001b[0mupc\u001b[0m\u001b[0;34m,\u001b[0m\u001b[0mdescription\u001b[0m\u001b[0;34m,\u001b[0m\u001b[0mtrans_type\u001b[0m\u001b[0;34m,\u001b[0m\u001b[0mtrans_subtype\u001b[0m\u001b[0;34m,\u001b[0m\u001b[0;34m\u001b[0m\u001b[0;34m\u001b[0m\u001b[0m\n",
      "\u001b[0;31mProgrammingError\u001b[0m: Incorrect number of bindings supplied. The current statement uses 50, and there are 5 supplied."
     ]
    }
   ],
   "source": [
    "# with open(input_file,'r') as ifile :\n",
    "#     populate_db(db,ifile,delimiter=\",\",limit=None)"
   ]
  },
  {
   "cell_type": "code",
   "execution_count": 14,
   "metadata": {},
   "outputs": [
    {
     "name": "stdout",
     "output_type": "stream",
     "text": [
      "On 2013-07-01, card_no = 3 spent 6,260.81.\n",
      "On 2013-07-01, card_no = 10089 spent 57.11.\n",
      "On 2013-07-01, card_no = 10095 spent 27.49.\n",
      "On 2013-07-01, card_no = 10166 spent 4.82.\n",
      "On 2013-07-01, card_no = 10286 spent 43.84.\n",
      "On 2013-07-01, card_no = 10430 spent 77.12.\n",
      "On 2013-07-01, card_no = 10478 spent 198.90.\n",
      "On 2013-07-01, card_no = 10492 spent 19.76.\n",
      "On 2013-07-01, card_no = 10499 spent 292.09.\n",
      "On 2013-07-01, card_no = 10504 spent 4.29.\n",
      "On 2013-07-01, card_no = 10510 spent 11.60.\n",
      "On 2013-07-01, card_no = 10513 spent 4.45.\n",
      "On 2013-07-01, card_no = 10527 spent 8.49.\n",
      "On 2013-07-01, card_no = 10605 spent 81.45.\n",
      "On 2013-07-01, card_no = 10613 spent 30.76.\n",
      "On 2013-07-01, card_no = 10629 spent 20.71.\n",
      "On 2013-07-01, card_no = 10656 spent 6.48.\n",
      "On 2013-07-01, card_no = 10674 spent 49.28.\n",
      "On 2013-07-01, card_no = 10682 spent 58.45.\n",
      "On 2013-07-01, card_no = 10839 spent 13.77.\n",
      "On 2013-07-01, card_no = 10959 spent 75.77.\n",
      "On 2013-07-01, card_no = 11003 spent 12.27.\n"
     ]
    }
   ],
   "source": [
    "#  result = cur.execute('''SELECT card_no,\n",
    "#                                 date(datetime) as date,\n",
    "#                                 sum(total) AS spend\n",
    "#                          FROM transactions\n",
    "#                          WHERE trans_type = \"I\"\n",
    "#                          GROUP BY card_no, date\n",
    "#                          ''')\n",
    "\n",
    "# for idx,row in enumerate(result) :\n",
    "#     print(\"On {1}, card_no = {0} spent {2:,.2f}.\".format(row[0],row[1],row[2]))\n",
    "#     if idx > 20 :\n",
    "#         break"
   ]
  },
  {
   "cell_type": "code",
   "execution_count": 15,
   "metadata": {},
   "outputs": [],
   "source": [
    "# result = cur.execute('''SELECT card_no,\n",
    "#                                    department,\n",
    "#                                    substr(date(datetime),1,4) AS year,\n",
    "#                                    substr(date(datetime),6,2) AS month,\n",
    "#                                    sum(total) AS spend,\n",
    "#                                    count(distinct(date(datetime) || register_no ||\n",
    "#                                            emp_no || trans_no)) as Transactions,\n",
    "#                                    sum(CASE WHEN (trans_status = 'V' or trans_status = 'R') THEN -1 ELSE 1 END) as Items\n",
    "#                                    FROM transactions\n",
    "#                                    WHERE department != 0 and\n",
    "#                                         department != 15 and\n",
    "#                                         trans_status != 'M' and\n",
    "#                                         trans_status != 'C' and\n",
    "#                                         trans_status != 'J' and\n",
    "#                                        (trans_status = '' or \n",
    "#                                         trans_status = ' ' or \n",
    "#                                         trans_status = 'V' or \n",
    "#                                         trans_status = 'R') and card_no = 18736\n",
    "#                           GROUP BY card_no, department, year, month\n",
    "#                           ORDER BY year, month''')"
   ]
  },
  {
   "cell_type": "code",
   "execution_count": 17,
   "metadata": {},
   "outputs": [],
   "source": [
    "# db.commit()"
   ]
  },
  {
   "cell_type": "code",
   "execution_count": 19,
   "metadata": {},
   "outputs": [],
   "source": [
    "# for row in result :\n",
    "#     print(row)"
   ]
  },
  {
   "cell_type": "code",
   "execution_count": 20,
   "metadata": {},
   "outputs": [],
   "source": [
    "# for idx,row in enumerate(result) :\n",
    "#     print(row)\n",
    "#     if idx > 10 :\n",
    "#         break"
   ]
  },
  {
   "cell_type": "markdown",
   "metadata": {},
   "source": [
    "#1.\tSales by date by hour: By calendar date (YYYY-MM-DD) and hour of the day, determine the total spend in the store, the number of transactions, and a count of the number of items . \n",
    "\n",
    "#2.\tSales by owner by year by month: A file that has the following columns: card_no, year, month, sales, transactions, and items. \n",
    "\n",
    "#3.\tSales by product description by year by month: A file that has the following columns: upc, description, department number, department name, year, month, sales, transactions, and items."
   ]
  },
  {
   "cell_type": "code",
   "execution_count": 29,
   "metadata": {},
   "outputs": [
    {
     "ename": "ProgrammingError",
     "evalue": "Incorrect number of bindings supplied. The current statement uses 50, and there are 1 supplied.",
     "output_type": "error",
     "traceback": [
      "\u001b[0;31m---------------------------------------------------------------------------\u001b[0m",
      "\u001b[0;31mProgrammingError\u001b[0m                          Traceback (most recent call last)",
      "\u001b[0;32m<ipython-input-29-24e3ec7c53d4>\u001b[0m in \u001b[0;36m<module>\u001b[0;34m\u001b[0m\n\u001b[1;32m     65\u001b[0m     \u001b[0;32mfor\u001b[0m \u001b[0midx\u001b[0m\u001b[0;34m,\u001b[0m \u001b[0mline\u001b[0m \u001b[0;32min\u001b[0m \u001b[0menumerate\u001b[0m\u001b[0;34m(\u001b[0m\u001b[0mifile\u001b[0m\u001b[0;34m.\u001b[0m\u001b[0mreadlines\u001b[0m\u001b[0;34m(\u001b[0m\u001b[0;34m)\u001b[0m\u001b[0;34m)\u001b[0m \u001b[0;34m:\u001b[0m\u001b[0;34m\u001b[0m\u001b[0;34m\u001b[0m\u001b[0m\n\u001b[1;32m     66\u001b[0m         \u001b[0mline\u001b[0m \u001b[0;34m=\u001b[0m \u001b[0mline\u001b[0m\u001b[0;34m.\u001b[0m\u001b[0mstrip\u001b[0m\u001b[0;34m(\u001b[0m\u001b[0;34m)\u001b[0m\u001b[0;34m.\u001b[0m\u001b[0msplit\u001b[0m\u001b[0;34m(\u001b[0m\u001b[0;34m\"\\t\"\u001b[0m\u001b[0;34m)\u001b[0m\u001b[0;34m\u001b[0m\u001b[0;34m\u001b[0m\u001b[0m\n\u001b[0;32m---> 67\u001b[0;31m         cur.execute('''\n\u001b[0m\u001b[1;32m     68\u001b[0m             INSERT INTO transactions (datetime,register_no,emp_no,\n\u001b[1;32m     69\u001b[0m               \u001b[0mtrans_no\u001b[0m\u001b[0;34m,\u001b[0m\u001b[0mupc\u001b[0m\u001b[0;34m,\u001b[0m\u001b[0mdescription\u001b[0m\u001b[0;34m,\u001b[0m\u001b[0mtrans_type\u001b[0m\u001b[0;34m,\u001b[0m\u001b[0mtrans_subtype\u001b[0m\u001b[0;34m,\u001b[0m\u001b[0;34m\u001b[0m\u001b[0;34m\u001b[0m\u001b[0m\n",
      "\u001b[0;31mProgrammingError\u001b[0m: Incorrect number of bindings supplied. The current statement uses 50, and there are 1 supplied."
     ]
    }
   ],
   "source": [
    "import sqlite3\n",
    "from wedge_helper import *\n",
    "\n",
    "input_file = \"SalesDateHour.csv\"\n",
    "\n",
    "#%%timeit # uncomment to test the execution time of the cell\n",
    "db = sqlite3.connect(\"Wedge2.db\") # this is the only change!\n",
    "cur = db.cursor()\n",
    "    \n",
    "cur.execute('''DROP TABLE IF EXISTS transactions''')\n",
    "cur.execute('''CREATE TABLE transactions (\n",
    "    datetime TIMESTAMP,\n",
    "    register_no INTEGER,\n",
    "    emp_no INTEGER,\n",
    "    trans_no INTEGER,\n",
    "    upc INTEGER,\n",
    "    description TEXT,\n",
    "    trans_type TEXT,\n",
    "    trans_subtype TEXT,\n",
    "    trans_status TEXT,\n",
    "    department INTEGER,\n",
    "    quantity REAL,\n",
    "    Scale INTEGER,\n",
    "    cost REAL,\n",
    "    unitPrice REAL,\n",
    "    total REAL,\n",
    "    regPrice REAL,\n",
    "    altPrice REAL,\n",
    "    tax INTEGER,\n",
    "    taxexempt INTEGER,\n",
    "    foodstamp INTEGER,\n",
    "    wicable INTEGER,\n",
    "    discount REAL,\n",
    "    memDiscount REAL,\n",
    "    discountable INTEGER,\n",
    "    discounttype INTEGER,\n",
    "    voided INTEGER,\n",
    "    percentDiscount REAL,\n",
    "    ItemQtty REAL,\n",
    "    volDiscType INTEGER,\n",
    "    volume INTEGER,\n",
    "    VolSpecial REAL,\n",
    "    mixMatch INTEGER,\n",
    "    matched INTEGER,\n",
    "    memType INTEGER,\n",
    "    staff INTEGER,\n",
    "    numflag INTEGER,\n",
    "    itemstatus INTEGER,\n",
    "    tenderstatus INTEGER,\n",
    "    charflag TEXT,\n",
    "    varflag INTEGER,\n",
    "    batchHeaderID INTEGER,\n",
    "    local INTEGER,\n",
    "    organic INTEGER,\n",
    "    display INTEGER,\n",
    "    receipt INTEGER,\n",
    "    card_no INTEGER,\n",
    "    store INTEGER,\n",
    "    branch INTEGER,\n",
    "    match_id INTEGER,\n",
    "    trans_id INTEGER)''')\n",
    "\n",
    "with open(input_file,'r',encoding=\"Latin-1\") as ifile :\n",
    "    next(ifile)\n",
    "    for idx, line in enumerate(ifile.readlines()) :\n",
    "        line = line.strip().split(\"\\t\")\n",
    "        cur.execute('''\n",
    "            INSERT INTO transactions (datetime,register_no,emp_no,\n",
    "              trans_no,upc,description,trans_type,trans_subtype,\n",
    "              trans_status,department,quantity,Scale,cost,unitPrice,\n",
    "              total,regPrice,altPrice,tax,taxexempt,foodstamp,wicable,\n",
    "              discount,memDiscount,discountable,discounttype,voided,percentDiscount,\n",
    "              ItemQtty,volDiscType,volume,\n",
    "              VolSpecial,mixMatch,matched,memType,staff,numflag,itemstatus,tenderstatus,\n",
    "              charflag,varflag,batchHeaderID,local,organic,display,receipt,\n",
    "              card_no,store,branch,match_id,trans_id)\n",
    "            VALUES (?,?,?,?,?,?,?,?,?,?,?,?,?,?,?,?,?,\n",
    "            ?,?,?,?,?,?,?,?,?,?,?,?,?,?,?,?,?,?,?,?,\n",
    "            ?,?,?,?,?,?,?,?,?,?,?,?,?)''', line)\n",
    "    \n",
    "db.commit() # Best practice, but not required here\n",
    "\n",
    "result = cur.execute('''SELECT card_no,\n",
    "                                   department,\n",
    "                                   substr(date(datetime),1,4) AS Year,\n",
    "                                   substr(date(datetime),6,2) AS Month,\n",
    "                                   sum(total) AS spend,\n",
    "                                   count(distinct(date(datetime) || register_no ||\n",
    "                                           emp_no || trans_no)) as Transactions,\n",
    "                                   sum(CASE WHEN (trans_status = 'V' or trans_status = 'R') THEN -1 ELSE 1 END) as Items\n",
    "                                   FROM transactions\n",
    "                                   WHERE department != 0 and\n",
    "                                        department != 15 and\n",
    "                                        trans_status != 'M' and\n",
    "                                        trans_status != 'C' and\n",
    "                                        trans_status != 'J' and\n",
    "                                       (trans_status = '' or \n",
    "                                        trans_status = ' ' or \n",
    "                                        trans_status = 'V' or \n",
    "                                        trans_status = 'R')\n",
    "                          GROUP BY card_no, department, year, month''')\n",
    "\n",
    "for idx,row in enumerate(result) :\n",
    "    print(row)\n",
    "    if idx > 10 :\n",
    "        break\n",
    "        \n",
    "db.close()"
   ]
  },
  {
   "cell_type": "code",
   "execution_count": null,
   "metadata": {},
   "outputs": [],
   "source": [
    "#1.\tSales by date by hour: By calendar date (YYYY-MM-DD) and hour of the day, determine the total spend in the store, the number of transactions, and a count of the number of items . \n",
    "#Results saved as SalesDateHour.csv\n",
    "SELECT DATE(datetime) AS YearMonthDay,\n",
    "EXTRACT(HOUR FROM datetime) as Hour,\n",
    "SUM(total) AS Spend,\n",
    "count(trans_type = 'I') as NumberofItems,\n",
    "count(distinct(DATE(datetime)||register_no||emp_no||trans_no)) as NumberofTrans\n",
    "FROM `umt-msba.transactions.*`\n",
    "Group by YearMonthDay, Hour"
   ]
  },
  {
   "cell_type": "code",
   "execution_count": null,
   "metadata": {},
   "outputs": [],
   "source": [
    "#2.\tSales by owner by year by month: A file that has the following columns: card_no, year, month, sales, transactions, and items. \n",
    "#Results saved as OwnerYearMonth.csv\n",
    "SELECT card_no AS Owner,\n",
    "EXTRACT(YEAR FROM datetime) AS Year,\n",
    "EXTRACT(MONTH FROM datetime) AS Month,\n",
    "SUM(total) AS Sales,\n",
    "count(trans_type = 'I') as Items,\n",
    "count(distinct(DATE(datetime)||register_no||emp_no||trans_no)) as Transactions\n",
    "FROM `umt-msba.transactions.*`\n",
    "Group by card_no, Year, Month\n",
    "Order by card_no, Year, Month"
   ]
  },
  {
   "cell_type": "code",
   "execution_count": null,
   "metadata": {},
   "outputs": [],
   "source": [
    "#3.\tSales by product description by year by month: A file that has the following columns: upc, description, department number, department name, year, month, sales, transactions, and items.\n",
    "#Results saved as SalesDateHour.csv\n",
    "SELECT upc AS ProductDesc,\n",
    "EXTRACT(YEAR FROM datetime) AS Year,\n",
    "EXTRACT(MONTH FROM datetime) AS Month,\n",
    "description AS Descrip,\n",
    "department AS DeptNum,\n",
    "count(trans_type = 'I') as Items,\n",
    "count(distinct(DATE(datetime)||register_no||emp_no||trans_no)) as Transactions\n",
    "FROM `umt-msba.transactions.*`\n",
    "Group by upc, Year, Month, description, department\n",
    "Order by upc, Year, Month\n",
    "#Need to include department name, this is in a table in the appendix. Need to do a join but how?"
   ]
  }
 ],
 "metadata": {
  "kernelspec": {
   "display_name": "Python 3",
   "language": "python",
   "name": "python3"
  },
  "language_info": {
   "codemirror_mode": {
    "name": "ipython",
    "version": 3
   },
   "file_extension": ".py",
   "mimetype": "text/x-python",
   "name": "python",
   "nbconvert_exporter": "python",
   "pygments_lexer": "ipython3",
   "version": "3.8.8"
  }
 },
 "nbformat": 4,
 "nbformat_minor": 4
}
