{
 "cells": [
  {
   "cell_type": "markdown",
   "metadata": {},
   "source": [
    "# Wedge Task 2- Owner Sample"
   ]
  },
  {
   "cell_type": "markdown",
   "metadata": {},
   "source": [
    "The following looks at taking all of GBQ tables and sampling the owners from these tables. "
   ]
  },
  {
   "cell_type": "code",
   "execution_count": 19,
   "metadata": {},
   "outputs": [],
   "source": [
    "#imports for the code\n",
    "import os\n",
    "from google.cloud import bigquery\n",
    "from google.oauth2 import service_account\n",
    "import io\n",
    "import csv\n",
    "import random"
   ]
  },
  {
   "cell_type": "code",
   "execution_count": 2,
   "metadata": {},
   "outputs": [],
   "source": [
    "# Linking to my permissions and GBQ project\n",
    "service_path = \"/Users/kayleeosentowski/Desktop/MSBA/ADA_21/Wedge/\"\n",
    "service_file = 'osentowski-project-3a5d8e60c1a3.json' # authentication information  \n",
    "gbq_proj_id = 'osentowski-project' # project. \n",
    "\n",
    "# using my machine math and json to create my private key\n",
    "private_key =service_path + service_file"
   ]
  },
  {
   "cell_type": "code",
   "execution_count": 3,
   "metadata": {},
   "outputs": [],
   "source": [
    "# Now we pass in our credentials so that Python has permission to access our project.\n",
    "credentials = service_account.Credentials.from_service_account_file(service_path + service_file)"
   ]
  },
  {
   "cell_type": "code",
   "execution_count": 4,
   "metadata": {},
   "outputs": [],
   "source": [
    "# establish connection\n",
    "client = bigquery.Client(credentials = credentials, project=gbq_proj_id)"
   ]
  },
  {
   "cell_type": "code",
   "execution_count": 5,
   "metadata": {},
   "outputs": [],
   "source": [
    "#Creating a query to pull only the card numbers from all of my tables that are NOT the value of 3.\n",
    "# 3 means non-owner and we only want owners\n",
    "query ='''SELECT DISTINCT(card_no) FROM `osentowski-project.Transaction.transArchive*`\n",
    "WHERE card_no!=3.0''' \n",
    "\n",
    "query_job= client.query(\n",
    "    query,\n",
    "    location= \"US\",\n",
    ")"
   ]
  },
  {
   "cell_type": "code",
   "execution_count": 6,
   "metadata": {},
   "outputs": [],
   "source": [
    "#creating an object for the query results\n",
    "owners = client.query(query,location=\"US\")"
   ]
  },
  {
   "cell_type": "code",
   "execution_count": 7,
   "metadata": {},
   "outputs": [],
   "source": [
    "# building a list of owners\n",
    "owner_list = []\n",
    "for owner in owners:\n",
    "    owner_list.append(owner[0])"
   ]
  },
  {
   "cell_type": "code",
   "execution_count": 8,
   "metadata": {},
   "outputs": [
    {
     "data": {
      "text/plain": [
       "27207"
      ]
     },
     "execution_count": 8,
     "metadata": {},
     "output_type": "execute_result"
    }
   ],
   "source": [
    "#Total number of owners\n",
    "len(owner_list)"
   ]
  },
  {
   "cell_type": "code",
   "execution_count": 9,
   "metadata": {},
   "outputs": [],
   "source": [
    "#Using random to pull a sample of 500 owners from the list\n",
    "owner_sample = random.sample(owner_list,400)"
   ]
  },
  {
   "cell_type": "code",
   "execution_count": 10,
   "metadata": {},
   "outputs": [],
   "source": [
    "# Using a SQL statement to pull all info, from all tables where the card number is not 3 \n",
    "owner_trans = '''SELECT * FROM `osentowski-project.Transaction.transArchive*`\n",
    "WHERE card_no IN ('''"
   ]
  },
  {
   "cell_type": "code",
   "execution_count": 11,
   "metadata": {},
   "outputs": [],
   "source": [
    "# stringing together all columns (trans) into the str of owner numbers\n",
    "for owner in owner_sample:\n",
    "    owner_trans += str(owner)+','"
   ]
  },
  {
   "cell_type": "code",
   "execution_count": 12,
   "metadata": {},
   "outputs": [],
   "source": [
    "owner_trans = owner_trans[:-1]+')'"
   ]
  },
  {
   "cell_type": "code",
   "execution_count": 13,
   "metadata": {},
   "outputs": [],
   "source": [
    "random_trans = client.query(owner_trans,location=\"US\")"
   ]
  },
  {
   "cell_type": "code",
   "execution_count": 14,
   "metadata": {},
   "outputs": [
    {
     "name": "stdout",
     "output_type": "stream",
     "text": [
      "2014-09-04 20:43:47+00:00\t7.0\t84.0\t40.0\t0000000000179\tCITRUS Lemon Organic\tI\t \t \t2.0\t0.3\t1.0\t0.0\t1.99\t0.6\t1.99\t0.0\t0.0\t0.0\t1.0\t0.0\t0.0\t0.0\t1.0\t0.0\t0.0\t6.5697267\t0.3\t0.0\t0.0\t0.0\t0.0\t0.0\tNone\tNone\t0.0\t0.0\t0.0\tNone\t0.0\tNone\t0.0\t1.0\tNone\t0.0\t48419.0\t1.0\t0.0\t0.0\t20.0\n"
     ]
    }
   ],
   "source": [
    "for trans in random_trans:\n",
    "    print('\\t'.join([str(x) for x in trans]))\n",
    "    break"
   ]
  },
  {
   "cell_type": "code",
   "execution_count": 15,
   "metadata": {},
   "outputs": [],
   "source": [
    "#Listing all headers to clean up txt file we are writing out\n",
    "headers = [\"datetime\",\"register_no\",\"emp_no\",\"trans_no\",\"upc\",\"description\",\"trans_type\",\"trans_subtype\",\"trans_status\",\n",
    "           \"department\",\"quantity\",\"Scale\",\"cost\",\"unitPrice\",\"total\",\"regPrice\",\"altPrice\",\"tax\",\"taxexempt\",\"foodstamp\",\n",
    "           \"wicable\",\"discount\",\"memDiscount\",\"discountable\",\"discounttype\",\"voided\",\"percentDiscount\",\"ItemQtty\",\n",
    "           \"volDiscType\",\"volume\",\"VolSpecial\",\"mixMatch\",\"matched\",\"memType\",\"staff\",\"numflag\",\"itemstatus\",\"tenderstatus\",\n",
    "           \"charflag\",\"varflag\",\"batchHeaderID\",\"local\",\"organic\",\"display\",\"receipt\",\"card_no\",\"store\",\"branch\",\"match_id\",\n",
    "           \"trans_id\"]"
   ]
  },
  {
   "cell_type": "code",
   "execution_count": 16,
   "metadata": {},
   "outputs": [],
   "source": [
    "#Writing out text file called \"owner_records\"\n",
    "with open (\"owner_records.txt\",\"w\") as outfile:\n",
    "    outfile.write(\",\".join(headers) + \"\\n\")\n",
    "    for row in random_trans:\n",
    "        outfile.write(\",\".join([str(item) for item in row])+ \"\\n\")"
   ]
  },
  {
   "cell_type": "markdown",
   "metadata": {},
   "source": [
    "Huge shout out to the lab class, Austin, Jack, and Clay for help with this code!"
   ]
  },
  {
   "cell_type": "code",
   "execution_count": null,
   "metadata": {},
   "outputs": [],
   "source": []
  }
 ],
 "metadata": {
  "kernelspec": {
   "display_name": "Python 3",
   "language": "python",
   "name": "python3"
  },
  "language_info": {
   "codemirror_mode": {
    "name": "ipython",
    "version": 3
   },
   "file_extension": ".py",
   "mimetype": "text/x-python",
   "name": "python",
   "nbconvert_exporter": "python",
   "pygments_lexer": "ipython3",
   "version": "3.8.8"
  }
 },
 "nbformat": 4,
 "nbformat_minor": 4
}
